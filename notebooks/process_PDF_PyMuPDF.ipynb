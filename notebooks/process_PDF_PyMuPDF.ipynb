{
 "cells": [
  {
   "cell_type": "code",
   "execution_count": 3,
   "metadata": {},
   "outputs": [
    {
     "name": "stdout",
     "output_type": "stream",
     "text": [
      "Requirement already satisfied: PyMuPDF in /Users/alexandraciobica/anaconda3/lib/python3.11/site-packages (1.24.11)\n",
      "\u001b[33mDEPRECATION: nb-black 1.0.7 has a non-standard dependency specifier black>='19.3'; python_version >= \"3.6\". pip 23.3 will enforce this behaviour change. A possible replacement is to upgrade to a newer version of nb-black or contact the author to suggest that they release a version with a conforming dependency specifiers. Discussion can be found at https://github.com/pypa/pip/issues/12063\u001b[0m\u001b[33m\n",
      "\u001b[0m"
     ]
    }
   ],
   "source": [
    "# !pip install -U pymupdf4llm\n",
    "# !pip install PyMuPDF"
   ]
  },
  {
   "cell_type": "code",
   "execution_count": 14,
   "metadata": {},
   "outputs": [
    {
     "name": "stdout",
     "output_type": "stream",
     "text": [
      "Processing ../data/input/usermanual-short.pdf...\n",
      "[                                        ] (0/3============[=============                           ] (1/============[==========================              ] (2/3=============[========================================] (3/3]\n"
     ]
    },
    {
     "data": {
      "text/plain": [
       "5577"
      ]
     },
     "execution_count": 14,
     "metadata": {},
     "output_type": "execute_result"
    }
   ],
   "source": [
    "import pymupdf4llm\n",
    "\n",
    "md_text = pymupdf4llm.to_markdown(\"../data/input/usermanual-short.pdf\")\n",
    "\n",
    "# now work with the markdown text, e.g. store as a UTF8-encoded file\n",
    "import pathlib\n",
    "pathlib.Path(\"../data/processed/usermanual_output.md\").write_bytes(md_text.encode())"
   ]
  },
  {
   "cell_type": "code",
   "execution_count": 11,
   "metadata": {},
   "outputs": [],
   "source": [
    "import pymupdf"
   ]
  },
  {
   "cell_type": "code",
   "execution_count": 12,
   "metadata": {},
   "outputs": [],
   "source": [
    "document = pymupdf.open(\"../data/input/usermanual-short.pdf\")\n",
    "# output_doc = open(\"../data/processed/usermanual_output_pymupdf.txt\", \"wb\")"
   ]
  },
  {
   "cell_type": "code",
   "execution_count": 10,
   "metadata": {},
   "outputs": [],
   "source": [
    "# output_doc = open(\"../data/processed/usermanual_output_pymupdf.txt\", \"wb\")\n",
    "\n",
    "for page in document:\n",
    "    text = page.get_text().encode(\"utf8\")\n",
    "    output_doc.write(text)\n",
    "    output_doc.write(bytes((12,))) # write page delimiter (form feed 0x0C)\n",
    "output_doc.close()"
   ]
  },
  {
   "cell_type": "code",
   "execution_count": 12,
   "metadata": {},
   "outputs": [
    {
     "name": "stdout",
     "output_type": "stream",
     "text": [
      "1 found on page 0 of ../data/input/usermanual-short.pdf\n",
      "[['', 'System', '', '', 'Description', '', '', 'OpCos', '', '', 'Addresses', ''], ['LP0', None, None, 'Production Cluster 0', None, None, 'BEL, FRA', None, None, 'https://lp0-logon.ea.holcim.net', None, None], ['LQ0', None, None, 'Quality Cluster 0', None, None, 'BEL, FRA', None, None, 'https://lq0-logon.ea.holcim.net', None, None], ['LP1', None, None, 'Production Cluster 1', None, None, 'ITA, NGE, SGE, CHE', None, None, 'https://lp1-logon.ea.holcim.net', None, None], ['LQ1', None, None, 'Quality Cluster 1', None, None, 'ITA, NGE, SGE, CHE', None, None, 'https://lq1-logon.ea.holcim.net', None, None], ['LP2', None, None, 'Production Cluster 2,\\n4A, 4B', None, None, 'BGR, HRV, HUN, ROM, SRB, SVK, RUS,\\nAZE, MAR, CYP, LBN, QAT, CIV', None, None, 'https://lp2-logon.ea.holcim.net', None, None], ['LQ2', None, None, 'Quality Cluster 2, 4A,\\n4B', None, None, 'BGR, CZE, HRV, HUN, ROM, SRB, SVK,\\nRUS, AZE, MAR, CYP, LBN, QAT, CIV', None, None, 'https://lq2-logon.ea.holcim.net', None, None]]\n"
     ]
    }
   ],
   "source": [
    "page = document[0]\n",
    "tabs = page.find_tables()\n",
    "\n",
    "print(f'{len(tabs.tables)} found on {page}')\n",
    "\n",
    "if tabs.tables:\n",
    "    print(tabs[0].extract())"
   ]
  },
  {
   "cell_type": "code",
   "execution_count": 24,
   "metadata": {},
   "outputs": [],
   "source": [
    "import pymupdf4llm\n",
    "\n",
    "pdf_file_path =\"../data/input/usermanual.pdf\"\n",
    "version = \"v4\""
   ]
  },
  {
   "cell_type": "code",
   "execution_count": 7,
   "metadata": {},
   "outputs": [
    {
     "name": "stdout",
     "output_type": "stream",
     "text": [
      "Processing ../data/input/usermanual-short.pdf...\n",
      "[                                        ] (0/3============[=============                           ] (1/============[==========================              ] (2/3=============[========================================] (3/3]\n"
     ]
    },
    {
     "data": {
      "text/plain": [
       "362387"
      ]
     },
     "execution_count": 7,
     "metadata": {},
     "output_type": "execute_result"
    }
   ],
   "source": [
    "md_text = pymupdf4llm.to_markdown(doc=pdf_file_path, \n",
    "                                  write_images=True,\n",
    "                                #   embed_images=True,\n",
    "                                  image_path=\"../data/processed/usermanual_output-{version}/\",\n",
    "                                  image_size_limit=0.05)\n",
    "\n",
    "# now work with the markdown text, e.g. store as a UTF8-encoded file\n",
    "import pathlib\n",
    "pathlib.Path(f\"../data/processed/usermanual_output-{version}.md\").write_bytes(md_text.encode())"
   ]
  },
  {
   "cell_type": "code",
   "execution_count": null,
   "metadata": {},
   "outputs": [],
   "source": [
    "document = pymupdf.open(pdf_file_path)\n",
    "# output_doc = open(\"../data/processed/usermanual_output_pymupdf.txt\", \"wb\")\n",
    "\n",
    "\n",
    "for page in document:\n",
    "    text = page.get_text().encode(\"utf8\")\n",
    "    output_doc.write(text)\n",
    "    output_doc.write(bytes((12,))) # write page delimiter (form feed 0x0C)\n",
    "output_doc.close()"
   ]
  },
  {
   "cell_type": "code",
   "execution_count": 33,
   "metadata": {},
   "outputs": [
    {
     "name": "stdout",
     "output_type": "stream",
     "text": [
      "Processing ../data/input/usermanual.pdf...\n",
      "[                                        ] (0/22[                                        ] (  1/22[                                        ] (  2/22[                                        ] (  3/22[                                        ] (  4/22[                                        ] (  5/221[=                                       ] (  6/2[=                                       ] (  7/2[=                                       ] (  8/2[=                                       ] (  9/2[=                                       ] ( 10/2[=                                       ] ( 11/22[==                                      ] ( 12/22[==                                      ] ( 13/22[==                                      ] ( 14/22[==                                      ] ( 15/22[==                                      ] ( 16/221[===                                     ] ( 17/2[===                                     ] ( 18/2[===                                     ] ( 19/2[===                                     ] ( 20/2[===                                     ] ( 21/2[===                                     ] ( 22/22[====                                    ] ( 23/22[====                                    ] ( 24/22[====                                    ] ( 25/22[====                                    ] ( 26/22[====                                    ] ( 27/221[=====                                   ] ( 28/2[=====                                   ] ( 29/2[=====                                   ] ( 30/2[=====                                   ] ( 31/2[=====                                   ] ( 32/2[=====                                   ] ( 33/22[======                                  ] ( 34/22[======                                  ] ( 35/22[======                                  ] ( 36/22[======                                  ] ( 37/22[======                                  ] ( 38/221[=======                                 ] ( 39/2[=======                                 ] ( 40/2[=======                                 ] ( 41/2[=======                                 ] ( 42/2[=======                                 ] ( 43/2[=======                                 ] ( 44/22[========                                ] ( 45/22[========                                ] ( 46/22[========                                ] ( 47/22[========                                ] ( 48/22[========                                ] ( 49/221[=========                               ] ( 50/2[=========                               ] ( 51/2[=========                               ] ( 52/2[=========                               ] ( 53/2[=========                               ] ( 54/221[=========                               ] ( 55/22[==========                              ] ( 56/22[==========                              ] ( 57/22[==========                              ] ( 58/22[==========                              ] ( 59/22[==========                              ] ( 60/221[===========                             ] ( 61/2[===========                             ] ( 62/2[===========                             ] ( 63/2[===========                             ] ( 64/2[===========                             ] ( 65/2[===========                             ] ( 66/22[============                            ] ( 67/22[============                            ] ( 68/22[============                            ] ( 69/22[============                            ] ( 70/22[============                            ] ( 71/221[=============                           ] ( 72/2[=============                           ] ( 73/2[=============                           ] ( 74/2[=============                           ] ( 75/2[=============                           ] ( 76/2[=============                           ] ( 77/22[==============                          ] ( 78/22[==============                          ] ( 79/22[==============                          ] ( 80/22[==============                          ] ( 81/22[==============                          ] ( 82/221[===============                         ] ( 83/2[===============                         ] ( 84/2[===============                         ] ( 85/2[===============                         ] ( 86/2[===============                         ] ( 87/2[===============                         ] ( 88/22[================                        ] ( 89/22[================                        ] ( 90/22[================                        ] ( 91/22[================                        ] ( 92/22[================                        ] ( 93/221[=================                       ] ( 94/2[=================                       ] ( 95/2[=================                       ] ( 96/2[=================                       ] ( 97/221[=================                       ] ( 98/2[=================                       ] ( 99/22[==================                      ] (100/22[==================                      ] (101/22[==================                      ] (102/22[==================                      ] (103/22[==================                      ] (104/221[===================                     ] (105/2[===================                     ] (106/2[===================                     ] (107/2[===================                     ] (108/2[===================                     ] (109/2[===================                     ] (110/22[====================                    ] (111/22[====================                    ] (112/22[====================                    ] (113/22[====================                    ] (114/22[====================                    ] (115/22[====================                    ] (116/221[=====================                   ] (117/2[=====================                   ] (118/2[=====================                   ] (119/2[=====================                   ] (120/221[=====================                   ] (121/22[======================                  ] (122/22[======================                  ] (123/22[======================                  ] (124/22[======================                  ] (125/22[======================                  ] (126/22[======================                  ] (127/221[=======================                 ] (128/2[=======================                 ] (129/2[=======================                 ] (130/2[=======================                 ] (131/2[=======================                 ] (132/22[========================                ] (133/22[========================                ] (134/22[========================                ] (135/22[========================                ] (136/22[========================                ] (137/22[========================                ] (138/221[=========================               ] (139/2[=========================               ] (140/2[=========================               ] (141/2[=========================               ] (142/2[=========================               ] (143/22[==========================              ] (144/22[==========================              ] (145/22[==========================              ] (146/22[==========================              ] (147/22[==========================              ] (148/22[==========================              ] (149/221[===========================             ] (150/2[===========================             ] (151/2[===========================             ] (152/2[===========================             ] (153/2[===========================             ] (154/22[============================            ] (155/22[============================            ] (156/22[============================            ] (157/22[============================            ] (158/22[============================            ] (159/22[============================            ] (160/221[=============================           ] (161/2[=============================           ] (162/2[=============================           ] (163/2[=============================           ] (164/2[=============================           ] (165/22[==============================          ] (166/22[==============================          ] (167/22[==============================          ] (168/22[==============================          ] (169/22[==============================          ] (170/22[==============================          ] (171/221[===============================         ] (172/2[===============================         ] (173/2[===============================         ] (174/2[===============================         ] (175/2[===============================         ] (176/22[================================        ] (177/22[================================        ] (178/22[================================        ] (179/22[================================        ] (180/22[================================        ] (181/22[================================        ] (182/221[=================================       ] (183/2[=================================       ] (184/2[=================================       ] (185/2[=================================       ] (186/2[=================================       ] (187/22[==================================      ] (188/22[==================================      ] (189/22[==================================      ] (190/22[==================================      ] (191/22[==================================      ] (192/22[==================================      ] (193/221[===================================     ] (194/2[===================================     ] (195/2[===================================     ] (196/2[===================================     ] (197/2[===================================     ] (198/22[====================================    ] (199/22[====================================    ] (200/22[====================================    ] (201/22[====================================    ] (202/22[====================================    ] (203/22[====================================    ] (204/221[=====================================   ] (205/2[=====================================   ] (206/2[=====================================   ] (207/221[=====================================   ] (208/2[=====================================   ] (209/22[======================================  ] (210/22[======================================  ] (211/22[======================================  ] (212/22[======================================  ] (213/22[======================================  ] (214/22[======================================  ] (215/221[======================================= ] (216/2[======================================= ] (217/2[======================================= ] (218/2[======================================= ] (219/221[======================================= ] (220/22[========================================] (221/221]\n"
     ]
    },
    {
     "ename": "AttributeError",
     "evalue": "'dict' object has no attribute 'get_text'",
     "output_type": "error",
     "traceback": [
      "\u001b[0;31m---------------------------------------------------------------------------\u001b[0m",
      "\u001b[0;31mAttributeError\u001b[0m                            Traceback (most recent call last)",
      "Cell \u001b[0;32mIn[33], line 10\u001b[0m\n\u001b[1;32m      8\u001b[0m output_f\u001b[38;5;241m=\u001b[39mpathlib\u001b[38;5;241m.\u001b[39mPath(\u001b[38;5;124mf\u001b[39m\u001b[38;5;124m\"\u001b[39m\u001b[38;5;124m../data/processed/usermanual_output-\u001b[39m\u001b[38;5;132;01m{\u001b[39;00mversion\u001b[38;5;132;01m}\u001b[39;00m\u001b[38;5;124m.md\u001b[39m\u001b[38;5;124m\"\u001b[39m)\n\u001b[1;32m      9\u001b[0m \u001b[38;5;28;01mfor\u001b[39;00m document \u001b[38;5;129;01min\u001b[39;00m docs:\n\u001b[0;32m---> 10\u001b[0m     output_f\u001b[38;5;241m.\u001b[39mwrite_bytes(document\u001b[38;5;241m.\u001b[39mget_text()\u001b[38;5;241m.\u001b[39mencode())\n\u001b[1;32m     11\u001b[0m     metadata\u001b[38;5;241m=\u001b[39m{\n\u001b[1;32m     12\u001b[0m         \u001b[38;5;124m\"\u001b[39m\u001b[38;5;124mfile_path\u001b[39m\u001b[38;5;124m\"\u001b[39m: document[\u001b[38;5;124m\"\u001b[39m\u001b[38;5;124mmetadata\u001b[39m\u001b[38;5;124m\"\u001b[39m]\u001b[38;5;241m.\u001b[39mget(\u001b[38;5;124m\"\u001b[39m\u001b[38;5;124mfile_path\u001b[39m\u001b[38;5;124m\"\u001b[39m),\n\u001b[1;32m     13\u001b[0m         \u001b[38;5;124m\"\u001b[39m\u001b[38;5;124mpage\u001b[39m\u001b[38;5;124m\"\u001b[39m: \u001b[38;5;28mstr\u001b[39m(document[\u001b[38;5;124m\"\u001b[39m\u001b[38;5;124mmetadata\u001b[39m\u001b[38;5;124m\"\u001b[39m]\u001b[38;5;241m.\u001b[39mget(\u001b[38;5;124m\"\u001b[39m\u001b[38;5;124mpage\u001b[39m\u001b[38;5;124m\"\u001b[39m)),\n\u001b[1;32m     14\u001b[0m         \u001b[38;5;124m\"\u001b[39m\u001b[38;5;124mimages\u001b[39m\u001b[38;5;124m\"\u001b[39m: \u001b[38;5;28mstr\u001b[39m(document\u001b[38;5;241m.\u001b[39mget(\u001b[38;5;124m\"\u001b[39m\u001b[38;5;124mimages\u001b[39m\u001b[38;5;124m\"\u001b[39m)),\n\u001b[1;32m     15\u001b[0m         \u001b[38;5;124m\"\u001b[39m\u001b[38;5;124mtoc_items\u001b[39m\u001b[38;5;124m\"\u001b[39m: \u001b[38;5;28mstr\u001b[39m(document\u001b[38;5;241m.\u001b[39mget(\u001b[38;5;124m\"\u001b[39m\u001b[38;5;124mtoc_items\u001b[39m\u001b[38;5;124m\"\u001b[39m)),\n\u001b[1;32m     16\u001b[0m     }\n\u001b[1;32m     17\u001b[0m     metadatas\u001b[38;5;241m.\u001b[39mappend(metadata)\n",
      "\u001b[0;31mAttributeError\u001b[0m: 'dict' object has no attribute 'get_text'"
     ]
    }
   ],
   "source": [
    "docs = pymupdf4llm.to_markdown(doc=pdf_file_path, \n",
    "                               page_chunks = True,\n",
    "                               write_images=True,\n",
    "                               image_path=f\"../data/processed/usermanual_output-{version}/\",\n",
    "                            #    image_size_limit=0.05\n",
    "                               )\n",
    "\n",
    "\n"
   ]
  },
  {
   "cell_type": "code",
   "execution_count": 44,
   "metadata": {},
   "outputs": [],
   "source": [
    "metadatas = []\n",
    "# output_f=pathlib.Path(f\"../data/processed/usermanual_output-v5.md\")\n",
    "output_doc = open(\"../data/processed/usermanual_output-v6.md\", \"wb\")\n",
    "\n",
    "for document in docs:\n",
    "    output_doc.write(document[\"text\"].encode())\n",
    "    metadata={\n",
    "        \"file_path\": document[\"metadata\"].get(\"file_path\"),\n",
    "        \"page\": str(document[\"metadata\"].get(\"page\")),\n",
    "        \"images\": str(document.get(\"images\")),\n",
    "        \"toc_items\": str(document.get(\"toc_items\")),\n",
    "    }\n",
    "    metadatas.append(metadata)\n",
    "output_doc.close()"
   ]
  },
  {
   "cell_type": "code",
   "execution_count": null,
   "metadata": {},
   "outputs": [],
   "source": [
    "# output_doc = open(\"../data/processed/usermanual_output_pymupdf.txt\", \"wb\")\n",
    "\n",
    "for page in document:\n",
    "    text = page.get_text().encode(\"utf8\")\n",
    "    output_doc.write(text)\n",
    "    output_doc.write(bytes((12,))) # write page delimiter (form feed 0x0C)\n",
    "output_doc.close()"
   ]
  }
 ],
 "metadata": {
  "kernelspec": {
   "display_name": "base",
   "language": "python",
   "name": "python3"
  },
  "language_info": {
   "codemirror_mode": {
    "name": "ipython",
    "version": 3
   },
   "file_extension": ".py",
   "mimetype": "text/x-python",
   "name": "python",
   "nbconvert_exporter": "python",
   "pygments_lexer": "ipython3",
   "version": "3.11.5"
  }
 },
 "nbformat": 4,
 "nbformat_minor": 2
}

{
 "cells": [
  {
   "cell_type": "code",
   "execution_count": 1,
   "metadata": {},
   "outputs": [],
   "source": [
    "import json\n",
    "from bs4 import BeautifulSoup\n",
    "import markdownify\n",
    "import os"
   ]
  },
  {
   "cell_type": "code",
   "execution_count": 2,
   "metadata": {},
   "outputs": [],
   "source": [
    "def extract_html_from_json(json_file_path):\n",
    "    with open(json_file_path, 'r') as file:\n",
    "        data = json.load(file)\n",
    "\n",
    "        html_content = data.get(\"body\", {}).get(\"export_view\", {}).get(\"value\", \"\")\n",
    "        return html_content"
   ]
  },
  {
   "cell_type": "code",
   "execution_count": 3,
   "metadata": {},
   "outputs": [],
   "source": [
    "def html_to_markdown(html_content):\n",
    "    soup = BeautifulSoup(html_content, \"html.parser\")\n",
    "\n",
    "    markdown_content = markdownify.markdownify(str(soup), heading_style=\"ATX\")\n",
    "    return markdown_content"
   ]
  },
  {
   "cell_type": "code",
   "execution_count": 66,
   "metadata": {},
   "outputs": [],
   "source": []
  },
  {
   "cell_type": "code",
   "execution_count": 13,
   "metadata": {},
   "outputs": [],
   "source": [
    "def write_content(input_file_path, markdown_content):\n",
    "    output_file = os.path.basename(input_file_path).split(\".\")[0]\n",
    "    with open(f'../data/processed/{output_file}.md', 'w') as f:\n",
    "        f.write(markdown_content)"
   ]
  },
  {
   "cell_type": "code",
   "execution_count": 14,
   "metadata": {},
   "outputs": [],
   "source": [
    "def process_json_to_markdown(json_file_path):\n",
    "    html_content = extract_html_from_json(json_file_path)\n",
    "    markdown_content = html_to_markdown(html_content)\n",
    "\n",
    "    write_content(json_file_path, markdown_content)\n",
    "    # output_file = os.path.basename(json_file_path).split(\".\")[0]\n",
    "    # with open(f'{output_file}-2.md', 'w') as f:\n",
    "    #     f.write(markdown_content)\n",
    "\n",
    "    return markdown_content"
   ]
  },
  {
   "cell_type": "code",
   "execution_count": 16,
   "metadata": {},
   "outputs": [],
   "source": [
    "markdown_content = process_json_to_markdown(\"../data/input/2001.json\")\n"
   ]
  }
 ],
 "metadata": {
  "kernelspec": {
   "display_name": "base",
   "language": "python",
   "name": "python3"
  },
  "language_info": {
   "codemirror_mode": {
    "name": "ipython",
    "version": 3
   },
   "file_extension": ".py",
   "mimetype": "text/x-python",
   "name": "python",
   "nbconvert_exporter": "python",
   "pygments_lexer": "ipython3",
   "version": "3.11.5"
  }
 },
 "nbformat": 4,
 "nbformat_minor": 2
}

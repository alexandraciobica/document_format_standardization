{
 "cells": [
  {
   "cell_type": "code",
   "execution_count": 1,
   "metadata": {},
   "outputs": [],
   "source": [
    "import json\n",
    "from bs4 import BeautifulSoup\n",
    "import markdownify\n",
    "import os"
   ]
  },
  {
   "cell_type": "code",
   "execution_count": 6,
   "metadata": {},
   "outputs": [],
   "source": [
    "def extract_html_from_json(json_file_path):\n",
    "    with open(json_file_path, 'r') as file:\n",
    "        data = json.load(file)\n",
    "\n",
    "        html_content = data.get(\"body\", {}).get(\"export_view\", {}).get(\"value\", \"\")\n",
    "        return html_content"
   ]
  },
  {
   "cell_type": "code",
   "execution_count": 51,
   "metadata": {},
   "outputs": [],
   "source": [
    "html_content = extract_html_from_json(\"data/input/2001.json\")"
   ]
  },
  {
   "cell_type": "code",
   "execution_count": 52,
   "metadata": {},
   "outputs": [
    {
     "data": {
      "text/plain": [
       "'<div class=\"contentLayout2\">\\n<div class=\"columnLayout two-right-sidebar\" data-layout=\"two-right-sidebar\">\\n<div class=\"cell normal\" data-type=\"normal\">\\n<div class=\"innerCell\">\\n<p></p><div class=\"table-wrap\"><table class=\"wrapped confluenceTable\"><colgroup> <col/> <col/> <col/> <col/> <col/> <col/> <col/> <col/> <col/> <col/> <col/> <col/> <col/> <col/> </colgroup><tbody><tr><th class=\"confluenceTh\">EN</th><th class=\"confluenceTh\">DE</th><th class=\"confluenceTh\">FR</th><th class=\"confluenceTh\">IT</th><th class=\"confluenceTh\">CN</th><th class=\"confluenceTh\">CZ</th><th colspan=\"1\" class=\"confluenceTh\">EE</th><th colspan=\"1\" class=\"confluenceTh\">ES</th><th colspan=\"1\" class=\"confluenceTh\">FI</th><th class=\"confluenceTh\">HU</th><th colspan=\"1\" class=\"confluenceTh\">NL</th><th colspan=\"1\" class=\"confluenceTh\">MY</th><th colspan=\"1\" class=\"confluenceTh\">SE</th><th class=\"confluenceTh\">TR</th></tr><tr><td class=\"confluenceTd\"><br/></td><td class=\"confluenceTd\"><br/></td><td class=\"confluenceTd\"><div class=\"content-wrapper\"><p><a href=\"/pages/viewpage.action?pageId=84843197&amp;preview=%2F84843197%2F84843236%2FF-05040+FR+Evaluation+%26+Entretien+d%27embauche+avant+CDI+-+personnel+administratif.docx\"><span style=\"background: url(\\'/s/-bki2x8/9012/1d0vx1s/18.5.35/_/download/resources/com.atlassian.confluence.plugins.confluence-view-file-macro:view-file-macro-resources/images/placeholder-medium-doc.png\\'); width: 177px; height: 95px; display: inline-block; padding-top: 155px; margin: 2px; border: 1px solid #ddd; text-align: center; vertical-align: text-bottom; text-decoration: none; font-size: 12px; color: #000;\">F-05040 FR Evaluation &amp; …</span></a></p></div></td><td class=\"confluenceTd\"><br/></td><td class=\"confluenceTd\"><br/></td><td class=\"confluenceTd\"><br/></td><td colspan=\"1\" class=\"confluenceTd\"><br/></td><td colspan=\"1\" class=\"confluenceTd\"><br/></td><td colspan=\"1\" class=\"confluenceTd\"><br/></td><td class=\"confluenceTd\"><br/></td><td colspan=\"1\" class=\"confluenceTd\"><br/></td><td colspan=\"1\" class=\"confluenceTd\"><br/></td><td colspan=\"1\" class=\"confluenceTd\"><br/></td><td class=\"confluenceTd\"><br/></td></tr></tbody></table></div></div>\\n</div>\\n<div class=\"cell aside\" data-type=\"aside\">\\n<div class=\"innerCell\">\\n<h1 id=\"F05040Evaluation&amp;Entretiend&#39;embaucheavantCDIpersonneladministratif/commercial-Validity\">Validity</h1><div class=\\'plugin-tabmeta-details\\'><div class=\"table-wrap\"><table class=\"wrapped relative-table confluenceTable\" style=\"width: 73.6419%;\"><colgroup> <col style=\"width: 23.8356%;\"/> <col style=\"width: 76.4384%;\"/> </colgroup><tbody><tr><td class=\"confluenceTd\">Scope</td><td colspan=\"1\" class=\"confluenceTd\"><div class=\"content-wrapper\"><p><span class=\"\"> - </span>\\n</p></div></td></tr><tr><td class=\"confluenceTd\"><div class=\"content-wrapper\"><p>Locations</p></div></td><td colspan=\"1\" class=\"confluenceTd\"><div class=\"content-wrapper\"><p><span class=\"\"> FR-Val C </span>\\n</p></div></td></tr></tbody></table></div></div></div>\\n</div>\\n</div>\\n<div class=\"columnLayout single\" data-layout=\"single\">\\n<div class=\"cell normal\" data-type=\"normal\">\\n<div class=\"innerCell\">\\n<hr/><p><br/></p></div>\\n</div>\\n</div>\\n<div class=\"columnLayout single\" data-layout=\"single\">\\n<div class=\"cell normal\" data-type=\"normal\">\\n<div class=\"innerCell\">\\n<h1 id=\"F05040Evaluation&amp;Entretiend&#39;embaucheavantCDIpersonneladministratif/commercial-Description\">Description</h1><p></p><p>Not applicable</p><p><br/></p></div>\\n</div>\\n</div>\\n<div class=\"columnLayout single\" data-layout=\"single\">\\n<div class=\"cell normal\" data-type=\"normal\">\\n<div class=\"innerCell\">\\n<h1 id=\"F05040Evaluation&amp;Entretiend&#39;embaucheavantCDIpersonneladministratif/commercial-ChangeandImplementationMessage\">Change and Implementation Message</h1><p><ul class=\"childpages-macro\"><li><a href=\"https://bms.Google.com/pages/viewpage.action?pageId=84843213\">Support Page for F-05040 Evaluation &amp; Entretien d\\'embauche avant CDI - personnel administratif/commercial</a></li></ul></p></div>\\n</div>\\n</div>\\n<div class=\"columnLayout single\" data-layout=\"single\">\\n<div class=\"cell normal\" data-type=\"normal\">\\n<div class=\"innerCell\">\\n<div title=\\'The content of this Scroll Ignore macro will not be part of the export for selected Scroll apps\\' style=\\' background-color: #efefef\\'><p> \\n \\n \\n    \\n<script type=\"text/javascript\">\\n//<![CDATA[\\nAJS.toInit(function(){\\n    // These are the CSS styles for this macro. It used to use a style element, but that was causing Confluence\\n    // to not keep the header bar at the top when you scroll the page. For some reason just putting style elements\\n    // in a user macro will cause the top bar to not remain static at the top of the page.\\n    var style = \\'<style type=\"text/css\">#collapser-01 .panel.collapser-closed .panelContent {display: none;}\\\\n#collapser-01 .panel.collapser-open .panelContent {display: block;}\\\\n.collapser {float: right; cursor: pointer; margin-right: 5px;}\\\\n.collapser-text {vertical-align: top;}\\\\n.collapser-text:hover {text-decoration: underline;}\\\\n.metadata-summary-macro tr th.confluenceTh  {border:none;}\\\\n.metadata-summary-macro tr td.confluenceTd  {border:none;}</style>\\';\\n    AJS.$(\\'#main-content\\').prepend(style);\\n \\n    /////////////////////////////////////////////////////\\n    // This block is a mix of Velocity and Javascript. //\\n    // The Velocty variable will add Javascript to     //\\n    // open or close the panel(s) within the macro     //\\n    // depending upon what the user set.               //\\n    /////////////////////////////////////////////////////\\n    AJS.$(\\'#collapser-01 .panel .panelHeader\\').append(\\'<span class=\"collapser\"><span class=\"collapser-button expand-control-icon icon\"> </span><span class=\"collapser-text\">Auf</span></span>\\');\\n    AJS.$(\\'#collapser-01 .panel\\').has(\\'.panelHeader\\').addClass(\\'collapser-closed\\');\\n \\n    AJS.$(\\'#collapser-01 .panel .collapser\\').click(function() {\\n        var panel = AJS.$(this).parent().parent(); // Get the panel for this specific collapser\\n        var open = AJS.$(panel).hasClass(\\'collapser-open\\'); // Is it currently open or closed?\\n        if(open) {\\n            toggleCollapser01(panel, \\'close\\');\\n        } else {\\n            toggleCollapser01(panel, \\'open\\');\\n        }\\n    });\\n});\\n \\nfunction toggleCollapser01(panel, action) {\\n    if(action === \"close\") {\\n        AJS.$(panel).removeClass(\\'collapser-open\\').addClass(\\'collapser-closed\\');\\n        AJS.$(\\'.collapser-button\\', panel).removeClass(\\'expanded\\');\\n        AJS.$(\\'.collapser-text\\', panel).text(\\'Auf\\');\\n    } else {\\n        AJS.$(panel).removeClass(\\'collapser-closed\\').addClass(\\'collapser-open\\');\\n        AJS.$(\\'.collapser-button\\', panel).addClass(\\'expanded\\');\\n        AJS.$(\\'.collapser-text\\', panel).text(\\'Zu\\');\\n    }\\n}\\n//]]>\\n</script>\\n \\n<div id=\"collapser-01\"><div class=\"panel\" style=\"border-width: 1px;\"><div class=\"panelHeader\" style=\"border-bottom-width: 1px;\"><b>System Information</b></div><div class=\"panelContent\">\\n<div class=\"plugin-tabmeta-details\"><div class=\"table-wrap\"><div class=\"table-wrap\"><table class=\"wrapped relative-table confluenceTable\" style=\"width: 100.0%;\"><colgroup> <col style=\"width: 22.0695%;\"/> <col style=\"width: 77.9305%;\"/> </colgroup><tbody><tr><th colspan=\"1\" class=\"confluenceTh\">Process Owner</th><td colspan=\"1\" class=\"confluenceTd\"><div class=\"content-wrapper\"><p><a class=\"confluence-userlink user-mention\" data-username=\"cstp\" href=\"https://bms.Google.com/display/~cstp\" data-linked-resource-id=\"12519991\" data-linked-resource-version=\"2\" data-linked-resource-type=\"userinfo\" data-base-url=\"https://bms.Google.com\" rel=\"nofollow\">Stéphanie Chaudon</a></p></div></td></tr><tr><th colspan=\"1\" class=\"confluenceTh\">Business Process Engineer</th><td colspan=\"1\" class=\"confluenceTd\"><div class=\"content-wrapper\"><p><a class=\"confluence-userlink user-mention\" data-username=\"fast\" href=\"https://bms.Google.com/display/~fast\" data-linked-resource-id=\"5615746\" data-linked-resource-version=\"2\" data-linked-resource-type=\"userinfo\" data-base-url=\"https://bms.Google.com\" rel=\"nofollow\">Steffen Faisst</a></p></div></td></tr><tr><th colspan=\"1\" class=\"confluenceTh\">Last Edited</th><td colspan=\"1\" class=\"confluenceTd\"><div class=\"content-wrapper\"><p> \\n15. Jul 2021 10:25</p></div></td></tr><tr><th colspan=\"1\" class=\"confluenceTh\">Last Released</th><td colspan=\"1\" class=\"confluenceTd\"><div class=\"content-wrapper\"><p><span class=\"watch-param213981678\">05. Aug 2021 10:35</span></p></div></td></tr><tr><th colspan=\"1\" class=\"confluenceTh\">Status</th><td colspan=\"1\" class=\"confluenceTd\"><div class=\"content-wrapper\"><p>    \\n\\n<span class=\"cw-state cw-tracker notfinal\" style=\"color: #0052CC;\">\\n    <span class=\"cw-state__icon\">\\xa0</span>\\n    <span class=\"cw-state__name\">Revise</span>\\n</span>\\n</p></div></td></tr><tr><th colspan=\"1\" class=\"confluenceTh\">Use</th><td colspan=\"1\" class=\"confluenceTd\"><div class=\"content-wrapper\"><p><span class=\"\"> Mandatory </span>\\n</p></div></td></tr><tr><th colspan=\"1\" class=\"confluenceTh\">Business Unit</th><td colspan=\"1\" class=\"confluenceTd\"><div class=\"content-wrapper\"><p>-</p></div></td></tr><tr><th colspan=\"1\" class=\"confluenceTh\">Organisation Unit</th><td colspan=\"1\" class=\"confluenceTd\"><div class=\"content-wrapper\"><p>-</p></div></td></tr><tr><th colspan=\"1\" class=\"confluenceTh\">Roles</th><td colspan=\"1\" class=\"confluenceTd\"><div class=\"content-wrapper\"><p><span class=\"\"> - </span>\\n</p></div></td></tr><tr><th colspan=\"1\" class=\"confluenceTh\">Processes</th><td colspan=\"1\" class=\"confluenceTd\"><div class=\"content-wrapper\"><p><span class=\"\"> Human Resources </span>\\n</p></div></td></tr><tr><th colspan=\"1\" class=\"confluenceTh\">Standard</th><td colspan=\"1\" class=\"confluenceTd\"><div class=\"content-wrapper\"><p><span class=\"\"> ISO 9001 </span>\\n</p></div></td></tr><tr><th colspan=\"1\" class=\"confluenceTh\">ISO 9001</th><td colspan=\"1\" class=\"confluenceTd\"><div class=\"content-wrapper\"><p><span class=\"\"> - </span>\\n</p></div></td></tr><tr><th colspan=\"1\" class=\"confluenceTh\">ISO 14001</th><td colspan=\"1\" class=\"confluenceTd\"><div class=\"content-wrapper\"><p><span class=\"\"> - </span>\\n</p></div></td></tr><tr><th colspan=\"1\" class=\"confluenceTh\">ISO 45001</th><td colspan=\"1\" class=\"confluenceTd\"><div class=\"content-wrapper\"><p><span class=\"\"> - </span>\\n</p></div></td></tr><tr><th colspan=\"1\" class=\"confluenceTh\">IATF 16949</th><td colspan=\"1\" class=\"confluenceTd\"><div class=\"content-wrapper\"><p><span class=\"\"> - </span>\\n</p></div></td></tr><tr><th colspan=\"1\" class=\"confluenceTh\">EN 9100</th><td colspan=\"1\" class=\"confluenceTd\"><div class=\"content-wrapper\"><p><span class=\"\"> - </span>\\n</p></div></td></tr><tr><th colspan=\"1\" class=\"confluenceTh\">ISO 17025</th><td colspan=\"1\" class=\"confluenceTd\"><div class=\"content-wrapper\"><p><span class=\"\"> - </span>\\n</p></div></td></tr><tr><th colspan=\"1\" class=\"confluenceTh\">ISO 13485</th><td colspan=\"1\" class=\"confluenceTd\"><div class=\"content-wrapper\"><p><span class=\"\"> - </span>\\n</p></div></td></tr><tr><th colspan=\"1\" class=\"confluenceTh\">QC 080000</th><td colspan=\"1\" class=\"confluenceTd\"><div class=\"content-wrapper\"><p><span class=\"\"> - </span>\\n</p></div></td></tr><tr><th colspan=\"1\" class=\"confluenceTh\">ISO 22301</th><td colspan=\"1\" class=\"confluenceTd\"><div class=\"content-wrapper\"><p><span class=\"\"> - </span>\\n</p></div></td></tr><tr><th colspan=\"1\" class=\"confluenceTh\">ISO 27001</th><td colspan=\"1\" class=\"confluenceTd\"><div class=\"content-wrapper\"><p><span class=\"\"> - </span>\\n</p></div></td></tr></tbody></table></div></div></div>\\n</div></div></div></p></div></div>\\n</div>\\n</div>\\n<div class=\"columnLayout single\" data-layout=\"single\">\\n<div class=\"cell normal\" data-type=\"normal\">\\n<div class=\"innerCell\">\\n<p><br/></p></div>\\n</div>\\n</div>\\n</div>'"
      ]
     },
     "execution_count": 52,
     "metadata": {},
     "output_type": "execute_result"
    }
   ],
   "source": [
    "html_content"
   ]
  },
  {
   "cell_type": "code",
   "execution_count": 53,
   "metadata": {},
   "outputs": [
    {
     "data": {
      "text/plain": [
       "str"
      ]
     },
     "execution_count": 53,
     "metadata": {},
     "output_type": "execute_result"
    }
   ],
   "source": [
    "type(html_content)"
   ]
  },
  {
   "cell_type": "code",
   "execution_count": 7,
   "metadata": {},
   "outputs": [],
   "source": [
    "def html_to_markdown(html_content):\n",
    "    soup = BeautifulSoup(html_content, \"html.parser\")\n",
    "\n",
    "    markdown_content = markdownify.markdownify(str(soup), heading_style=\"ATX\")\n",
    "    return markdown_content"
   ]
  },
  {
   "cell_type": "code",
   "execution_count": 66,
   "metadata": {},
   "outputs": [],
   "source": [
    "\n"
   ]
  },
  {
   "cell_type": "code",
   "execution_count": 55,
   "metadata": {},
   "outputs": [
    {
     "data": {
      "text/plain": [
       "\"\\n\\n\\n\\n\\n\\n               | EN | DE | FR | IT | CN | CZ | EE | ES | FI | HU | NL | MY | SE | TR |\\n| --- | --- | --- | --- | --- | --- | --- | --- | --- | --- | --- | --- | --- | --- |\\n|  |  | [F\\\\-05040 FR Evaluation \\\\& …](/pages/viewpage.action?pageId=84843197&preview=%2F84843197%2F84843236%2FF-05040+FR+Evaluation+%26+Entretien+d%27embauche+avant+CDI+-+personnel+administratif.docx) |  |  |  |  |  |  |  |  |  |  |  |\\n\\n\\n\\n\\n\\n# Validity\\n\\n\\n\\n   | Scope | \\\\- |\\n| --- | --- |\\n| Locations | FR\\\\-Val C |\\n\\n\\n\\n\\n\\n\\n\\n\\n\\n---\\n\\n  \\n\\n\\n\\n\\n\\n\\n\\n\\n# Description\\n\\nNot applicable\\n\\n  \\n\\n\\n\\n\\n\\n\\n\\n\\n# Change and Implementation Message\\n\\n* [Support Page for F\\\\-05040 Evaluation \\\\& Entretien d'embauche avant CDI \\\\- personnel administratif/commercial](https://bms.Google.com/pages/viewpage.action?pageId=84843213)\\n\\n\\n\\n\\n\\n\\n\\n\\n\\n\\n**System Information**\\n\\n\\n   | Process Owner | [Stéphanie Chaudon](https://bms.Google.com/display/~cstp) |\\n| --- | --- |\\n| Business Process Engineer | [Steffen Faisst](https://bms.Google.com/display/~fast) |\\n| Last Edited | 15\\\\. Jul 2021 10:25 |\\n| Last Released | 05\\\\. Aug 2021 10:35 |\\n| Status | Revise |\\n| Use | Mandatory |\\n| Business Unit | \\\\- |\\n| Organisation Unit | \\\\- |\\n| Roles | \\\\- |\\n| Processes | Human Resources |\\n| Standard | ISO 9001 |\\n| ISO 9001 | \\\\- |\\n| ISO 14001 | \\\\- |\\n| ISO 45001 | \\\\- |\\n| IATF 16949 | \\\\- |\\n| EN 9100 | \\\\- |\\n| ISO 17025 | \\\\- |\\n| ISO 13485 | \\\\- |\\n| QC 080000 | \\\\- |\\n| ISO 22301 | \\\\- |\\n| ISO 27001 | \\\\- |\\n\\n\\n\\n\\n\\n\\n\\n\\n\\n\\n  \\n\\n\\n\\n\\n\\n\""
      ]
     },
     "execution_count": 55,
     "metadata": {},
     "output_type": "execute_result"
    }
   ],
   "source": [
    "markdown_content = html_to_markdown(html_content)\n",
    "markdown_content"
   ]
  },
  {
   "cell_type": "code",
   "execution_count": 56,
   "metadata": {},
   "outputs": [],
   "source": [
    "with open('sample.md', 'w') as f:\n",
    "    f.write(markdown_content)"
   ]
  },
  {
   "cell_type": "code",
   "execution_count": 11,
   "metadata": {},
   "outputs": [],
   "source": [
    "def write_content(input_file_path, markdown_content):\n",
    "    output_file = os.path.basename(input_file_path).split(\".\")[0]\n",
    "    with open(f'{output_file}.md', 'w') as f:\n",
    "        f.write(markdown_content)"
   ]
  },
  {
   "cell_type": "code",
   "execution_count": 12,
   "metadata": {},
   "outputs": [],
   "source": [
    "def process_json_to_markdown(json_file_path):\n",
    "    html_content = extract_html_from_json(json_file_path)\n",
    "    markdown_content = html_to_markdown(html_content)\n",
    "\n",
    "    write_content(json_file_path, markdown_content)\n",
    "    # output_file = os.path.basename(json_file_path).split(\".\")[0]\n",
    "    # with open(f'{output_file}-2.md', 'w') as f:\n",
    "    #     f.write(markdown_content)\n",
    "\n",
    "    return markdown_content"
   ]
  },
  {
   "cell_type": "code",
   "execution_count": 13,
   "metadata": {},
   "outputs": [],
   "source": [
    "markdown1 = process_json_to_markdown(\"data/input/2000.json\")"
   ]
  },
  {
   "cell_type": "code",
   "execution_count": null,
   "metadata": {},
   "outputs": [],
   "source": []
  }
 ],
 "metadata": {
  "kernelspec": {
   "display_name": "base",
   "language": "python",
   "name": "python3"
  },
  "language_info": {
   "codemirror_mode": {
    "name": "ipython",
    "version": 3
   },
   "file_extension": ".py",
   "mimetype": "text/x-python",
   "name": "python",
   "nbconvert_exporter": "python",
   "pygments_lexer": "ipython3",
   "version": "3.11.5"
  }
 },
 "nbformat": 4,
 "nbformat_minor": 2
}

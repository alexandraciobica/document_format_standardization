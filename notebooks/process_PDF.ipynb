{
 "cells": [
  {
   "cell_type": "code",
   "execution_count": 15,
   "metadata": {},
   "outputs": [],
   "source": [
    "from pdfminer.high_level import extract_text\n",
    "from pdfminer.layout import LAParams\n",
    "import markdownify\n",
    "import os"
   ]
  },
  {
   "cell_type": "code",
   "execution_count": 19,
   "metadata": {},
   "outputs": [],
   "source": [
    "def write_content(input_file_path, markdown_content):\n",
    "    output_file = os.path.basename(input_file_path).split(\".\")[0]\n",
    "    with open(f'{output_file}.md', 'w') as f:\n",
    "        f.write(markdown_content)"
   ]
  },
  {
   "cell_type": "code",
   "execution_count": 9,
   "metadata": {},
   "outputs": [],
   "source": [
    "def extract_text_from_pdf(pdf_file_path):\n",
    "    text = extract_text(pdf_file_path)\n",
    "    return text"
   ]
  },
  {
   "cell_type": "code",
   "execution_count": 16,
   "metadata": {},
   "outputs": [],
   "source": [
    "def extract_text_from_pdf_with_layout(pdf_file_path):\n",
    "    laparams = LAParams()\n",
    "    text = extract_text(pdf_file_path, laparams=laparams)\n",
    "    return text"
   ]
  },
  {
   "cell_type": "code",
   "execution_count": 11,
   "metadata": {},
   "outputs": [],
   "source": [
    "def convert_text_to_markdown(text):\n",
    "    markdown_content = markdownify.markdownify(text, heading_style=\"ATX\")\n",
    "    return markdown_content"
   ]
  },
  {
   "cell_type": "code",
   "execution_count": 17,
   "metadata": {},
   "outputs": [],
   "source": [
    "def process_pdf_to_markdown(file_path):\n",
    "    # pdf_content = extract_text_from_pdf(file_path)\n",
    "    pdf_content = extract_text_from_pdf_with_layout(file_path)\n",
    "    markdown_content = convert_text_to_markdown(pdf_content)\n",
    "    write_content(file_path, pdf_content)\n",
    "    return markdown_content\n"
   ]
  },
  {
   "cell_type": "code",
   "execution_count": 18,
   "metadata": {},
   "outputs": [],
   "source": [
    "markdown_content = process_pdf_to_markdown(\"data/input/usermanual.pdf\")"
   ]
  },
  {
   "cell_type": "code",
   "execution_count": null,
   "metadata": {},
   "outputs": [],
   "source": []
  }
 ],
 "metadata": {
  "kernelspec": {
   "display_name": "base",
   "language": "python",
   "name": "python3"
  },
  "language_info": {
   "codemirror_mode": {
    "name": "ipython",
    "version": 3
   },
   "file_extension": ".py",
   "mimetype": "text/x-python",
   "name": "python",
   "nbconvert_exporter": "python",
   "pygments_lexer": "ipython3",
   "version": "3.11.5"
  }
 },
 "nbformat": 4,
 "nbformat_minor": 2
}
